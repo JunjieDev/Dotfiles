{
 "cells": [
  {
   "cell_type": "markdown",
   "id": "4ef4f54b",
   "metadata": {},
   "source": [
    "## Class :"
   ]
  },
  {
   "cell_type": "code",
   "execution_count": 1,
   "id": "d6278379",
   "metadata": {},
   "outputs": [],
   "source": [
    "class Rahild:\n",
    "    def __init__(self, value):\n",
    "        self.value = value"
   ]
  },
  {
   "cell_type": "code",
   "execution_count": 2,
   "id": "78e48280",
   "metadata": {},
   "outputs": [],
   "source": [
    "class Rarity:\n",
    "    def __init__(self, name: str, letter: str, color: str):\n",
    "        self.name = name\n",
    "        self.letter = letter\n",
    "        self.color = color\n",
    "\n",
    "    def __str__(self):\n",
    "        return f\"(Rarity: {self.name} - {self.letter} - {self.color})\""
   ]
  },
  {
   "cell_type": "code",
   "execution_count": 3,
   "id": "ec7d968e",
   "metadata": {},
   "outputs": [],
   "source": [
    "Common = Rarity(\"Common\", \"C\", \"White\");\n",
    "Magic = Rarity(\"Magic\", \"M\", \"Green\");\n",
    "Rare = Rarity(\"Rare\", \"R\", \"Blue\");\n",
    "Hero = Rarity(\"Hero\", \"H\", \"Purple\");\n",
    "Legendary = Rarity(\"Legendary\", \"L\", \"Orange\");"
   ]
  },
  {
   "cell_type": "code",
   "execution_count": 4,
   "id": "82d7d58e",
   "metadata": {
    "scrolled": true
   },
   "outputs": [],
   "source": [
    "class Article:\n",
    "    def __init__(self, fr: str, en: str, rarity: str):\n",
    "        self.fr = fr\n",
    "        self.en = en\n",
    "        self.rarity = rarity\n",
    "\n",
    "    def __str__(self):\n",
    "        return f\"Article: {self.fr} ({self.en}) -> {self.rarity}\""
   ]
  },
  {
   "cell_type": "markdown",
   "id": "ea5136ab",
   "metadata": {},
   "source": [
    "## Code :"
   ]
  },
  {
   "cell_type": "code",
   "execution_count": 5,
   "id": "95cda02b",
   "metadata": {},
   "outputs": [
    {
     "name": "stdout",
     "output_type": "stream",
     "text": [
      "Article: Le chat noir (The black cat) -> (Rarity: Common - C - White)\n",
      "Article: La voiture rouge (The red car) -> (Rarity: Magic - M - Green)\n"
     ]
    }
   ],
   "source": [
    "art1 = Article(\"Le chat noir\", \"The black cat\", Common);\n",
    "art2 = Article(\"La voiture rouge\", \"The red car\", Magic);\n",
    "\n",
    "print(art1);\n",
    "print(art2);"
   ]
  }
 ],
 "metadata": {
  "kernelspec": {
   "display_name": "Python 3 (ipykernel)",
   "language": "python",
   "name": "python3"
  },
  "language_info": {
   "codemirror_mode": {
    "name": "ipython",
    "version": 3
   },
   "file_extension": ".py",
   "mimetype": "text/x-python",
   "name": "python",
   "nbconvert_exporter": "python",
   "pygments_lexer": "ipython3",
   "version": "3.11.0"
  }
 },
 "nbformat": 4,
 "nbformat_minor": 5
}
